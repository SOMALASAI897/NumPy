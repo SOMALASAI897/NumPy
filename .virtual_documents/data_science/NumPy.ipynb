# speed test between list and the numpy in python 
# speed test in list python 
import numpy as np 
import time

size = 1000000
list1 = list(range(size))
list2 = list(range(size))
start = time.time()
add = [x+y for x,y in zip(list1,list2)]
end= time.time()

print("Time taken",end-start)


# speed test using numpy arrays
import numpy as np 
import time

size = 1000000
array1 = np.array(list(range(size)))
array2 = np.array(list(range(size)))

start = time.time()
result = array1+array2
end = time.time()

print("Time Taken", end - start)
# in conclusion the time taken by the numpy array is smaller than the list in python


# to check the data size in both lists and arrays 
import sys
python_list = list(range(1000))
numpy_array = np.array(python_list)

print("size of python list:", sys.getsizeof(python_list)*len(python_list),"bytes")
print("size of numpy array:" , numpy_array.nbytes, "bytes")


# creating the numpy array using diff functions
import numpy as np
array1 = np.array([[1,2,3],[4,5,6]])


array1


array1.ndim


array1.shape


array1.size


array1.dtype


# creating arrays using a simple function 
np.zeros((2,3))


np.ones((3,4))


np.eye(3)


np.full((2,5),7)


# changing the data type of the numpy arrays 
arr1= np.array([[1,2,3],[5,8,9],[23,352,5235]],dtype = 'float32')


arr1


arr1.astype('int32') #conversion from float 32 to int 32


# reshaping and flattening the array 
arr3 = np.array([[1,5,8],[4,5,6]])


arr3


arr3.reshape((3,2))


arr3.flatten()



