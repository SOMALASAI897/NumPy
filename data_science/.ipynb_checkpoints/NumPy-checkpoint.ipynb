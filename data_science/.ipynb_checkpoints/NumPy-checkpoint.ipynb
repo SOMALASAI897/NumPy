{
 "cells": [
  {
   "cell_type": "code",
   "execution_count": 17,
   "id": "d9844f44-f746-4345-831c-2f230557e946",
   "metadata": {},
   "outputs": [
    {
     "name": "stdout",
     "output_type": "stream",
     "text": [
      "Time taken 0.08800363540649414\n"
     ]
    }
   ],
   "source": [
    "# speed test between list and the numpy in python \n",
    "# speed test in list python \n",
    "import numpy as np \n",
    "import time\n",
    "\n",
    "size = 1000000\n",
    "list1 = list(range(size))\n",
    "list2 = list(range(size))\n",
    "start = time.time()\n",
    "add = [x+y for x,y in zip(list1,list2)]\n",
    "end= time.time()\n",
    "\n",
    "print(\"Time taken\",end-start)"
   ]
  },
  {
   "cell_type": "code",
   "execution_count": 23,
   "id": "1e7eea67-7dcf-4bb7-b0e8-20b8c34eb9b1",
   "metadata": {},
   "outputs": [
    {
     "name": "stdout",
     "output_type": "stream",
     "text": [
      "Time Taken 0.004984378814697266\n"
     ]
    }
   ],
   "source": [
    "# speed test using numpy arrays\n",
    "import numpy as np \n",
    "import time\n",
    "\n",
    "size = 1000000\n",
    "array1 = np.array(list(range(size)))\n",
    "array2 = np.array(list(range(size)))\n",
    "\n",
    "start = time.time()\n",
    "result = array1+array2\n",
    "end = time.time()\n",
    "\n",
    "print(\"Time Taken\", end - start)\n",
    "# in conclusion the time taken by the numpy array is smaller than the list in python"
   ]
  },
  {
   "cell_type": "code",
   "execution_count": 21,
   "id": "b9a1912e-1d54-4566-8dee-657450e80ec6",
   "metadata": {},
   "outputs": [
    {
     "name": "stdout",
     "output_type": "stream",
     "text": [
      "size of python list 8056000 bytes\n",
      "size of numpy array 4000 bytes\n"
     ]
    }
   ],
   "source": [
    "# to check the data size in both lists and arrays \n",
    "import sys\n",
    "python_list = list(range(1000))\n",
    "numpy_array = np.array(python_list)\n",
    "\n",
    "print(\"size of python list:\", sys.getsizeof(python_list)*len(python_list),\"bytes\")\n",
    "print(\"size of numpy array:\" , numpy_array.nbytes, \"bytes\")"
   ]
  },
  {
   "cell_type": "code",
   "execution_count": 5,
   "id": "4cd43a25-852f-433f-870b-ef55d6f13744",
   "metadata": {},
   "outputs": [],
   "source": [
    "# creating the numpy array using diff functions\n",
    "import numpy as np\n",
    "array1 = np.array([[1,2,3],[4,5,6]])"
   ]
  },
  {
   "cell_type": "code",
   "execution_count": 7,
   "id": "cb284d79-cafb-48c8-9dc2-af9e44f19a77",
   "metadata": {},
   "outputs": [
    {
     "data": {
      "text/plain": [
       "array([[1, 2, 3],\n",
       "       [4, 5, 6]])"
      ]
     },
     "execution_count": 7,
     "metadata": {},
     "output_type": "execute_result"
    }
   ],
   "source": [
    "array1"
   ]
  },
  {
   "cell_type": "code",
   "execution_count": 9,
   "id": "b08f5611-f276-4aba-902e-a6cf0f0663b1",
   "metadata": {},
   "outputs": [
    {
     "data": {
      "text/plain": [
       "2"
      ]
     },
     "execution_count": 9,
     "metadata": {},
     "output_type": "execute_result"
    }
   ],
   "source": [
    "array1.ndim"
   ]
  },
  {
   "cell_type": "code",
   "execution_count": 11,
   "id": "7b1f04d1-3819-4883-b353-c79341fcb95b",
   "metadata": {},
   "outputs": [
    {
     "data": {
      "text/plain": [
       "(2, 3)"
      ]
     },
     "execution_count": 11,
     "metadata": {},
     "output_type": "execute_result"
    }
   ],
   "source": [
    "array1.shape"
   ]
  },
  {
   "cell_type": "code",
   "execution_count": 13,
   "id": "7ac5c613-eaa9-4bd2-a2bb-c1ff7f153687",
   "metadata": {},
   "outputs": [
    {
     "data": {
      "text/plain": [
       "6"
      ]
     },
     "execution_count": 13,
     "metadata": {},
     "output_type": "execute_result"
    }
   ],
   "source": [
    "array1.size"
   ]
  },
  {
   "cell_type": "code",
   "execution_count": 15,
   "id": "41280204-b44c-4c2d-9369-977839bf28ca",
   "metadata": {},
   "outputs": [
    {
     "data": {
      "text/plain": [
       "dtype('int32')"
      ]
     },
     "execution_count": 15,
     "metadata": {},
     "output_type": "execute_result"
    }
   ],
   "source": [
    "array1.dtype"
   ]
  },
  {
   "cell_type": "code",
   "execution_count": 19,
   "id": "efe7ccdd-6ca9-4058-8613-86047de60903",
   "metadata": {},
   "outputs": [
    {
     "data": {
      "text/plain": [
       "array([[0., 0., 0.],\n",
       "       [0., 0., 0.]])"
      ]
     },
     "execution_count": 19,
     "metadata": {},
     "output_type": "execute_result"
    }
   ],
   "source": [
    "# creating arrays using a simple function \n",
    "np.zeros((2,3))"
   ]
  },
  {
   "cell_type": "code",
   "execution_count": 21,
   "id": "da6b9f30-2ef9-4c07-8a0e-2658ac21f971",
   "metadata": {},
   "outputs": [
    {
     "data": {
      "text/plain": [
       "array([[1., 1., 1., 1.],\n",
       "       [1., 1., 1., 1.],\n",
       "       [1., 1., 1., 1.]])"
      ]
     },
     "execution_count": 21,
     "metadata": {},
     "output_type": "execute_result"
    }
   ],
   "source": [
    "np.ones((3,4))"
   ]
  },
  {
   "cell_type": "code",
   "execution_count": 23,
   "id": "60d7287d-f5e2-4dc3-9420-c94991d944ed",
   "metadata": {},
   "outputs": [
    {
     "data": {
      "text/plain": [
       "array([[1., 0., 0.],\n",
       "       [0., 1., 0.],\n",
       "       [0., 0., 1.]])"
      ]
     },
     "execution_count": 23,
     "metadata": {},
     "output_type": "execute_result"
    }
   ],
   "source": [
    "np.eye(3)"
   ]
  },
  {
   "cell_type": "code",
   "execution_count": 25,
   "id": "c1e6ea43-9fab-4ac8-af8d-c2ac81bd55ea",
   "metadata": {},
   "outputs": [
    {
     "data": {
      "text/plain": [
       "array([[7, 7, 7, 7, 7],\n",
       "       [7, 7, 7, 7, 7]])"
      ]
     },
     "execution_count": 25,
     "metadata": {},
     "output_type": "execute_result"
    }
   ],
   "source": [
    "np.full((2,5),7)"
   ]
  },
  {
   "cell_type": "code",
   "execution_count": 29,
   "id": "47d15ac6-c83b-469f-a7f1-935f2782a241",
   "metadata": {},
   "outputs": [],
   "source": [
    "# changing the data type of the numpy arrays \n",
    "arr1= np.array([[1,2,3],[5,8,9],[23,352,5235]],dtype = 'float32')"
   ]
  },
  {
   "cell_type": "raw",
   "id": "293c717f-9047-475d-b977-2998538f6f94",
   "metadata": {},
   "source": [
    "arr1"
   ]
  },
  {
   "cell_type": "markdown",
   "id": "b4440227-4e10-4d4a-b2c9-e29c44e5c48b",
   "metadata": {},
   "source": [
    "arr1"
   ]
  },
  {
   "cell_type": "code",
   "execution_count": null,
   "id": "ef330a24-3780-4bd1-993b-1302e4d22b9d",
   "metadata": {},
   "outputs": [],
   "source": []
  }
 ],
 "metadata": {
  "kernelspec": {
   "display_name": "Python [conda env:base] *",
   "language": "python",
   "name": "conda-base-py"
  },
  "language_info": {
   "codemirror_mode": {
    "name": "ipython",
    "version": 3
   },
   "file_extension": ".py",
   "mimetype": "text/x-python",
   "name": "python",
   "nbconvert_exporter": "python",
   "pygments_lexer": "ipython3",
   "version": "3.12.7"
  }
 },
 "nbformat": 4,
 "nbformat_minor": 5
}
